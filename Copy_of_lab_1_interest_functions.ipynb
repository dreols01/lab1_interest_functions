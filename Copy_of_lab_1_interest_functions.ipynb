{
  "cells": [
    {
      "cell_type": "markdown",
      "metadata": {
        "id": "view-in-github",
        "colab_type": "text"
      },
      "source": [
        "<a href=\"https://colab.research.google.com/github/dreols01/lab1_interest_functions/blob/master/Copy_of_lab_1_interest_functions.ipynb\" target=\"_parent\"><img src=\"https://colab.research.google.com/assets/colab-badge.svg\" alt=\"Open In Colab\"/></a>"
      ]
    },
    {
      "cell_type": "markdown",
      "metadata": {
        "id": "tZV_L4_fzDZ_"
      },
      "source": [
        "## Lab 1 - Compound Interest Functions\n",
        "\n",
        "Below you will find a table of important formulae related to compound interest.  \n",
        "\n",
        "<img src=\"https://www.dummies.com/wp-content/uploads/251689.image0.jpg\" alt=\"image0.jpg\" width=\"400\" height=\"319\">\n",
        "\n",
        "In this lab, you will create functions for each of these using (and documenting) the following workflow.\n",
        "\n",
        "1. Work out the correct answer for a few examples. *Hint* Search for e.g. \"worked out compound interest examples\" on the web.\n",
        "2. Write a `lambda` function and test this function on your test cases.\n",
        "3. Convert the `lambda` function to a `def` statement with an informative doc string that follows the [Google formating rules](https://google.github.io/styleguide/pyguide.html#383-functions-and-methods).\n",
        "4. Write an automated test function (using your previous examples) that will test your `def` statement function each time the code is executed."
      ]
    },
    {
      "cell_type": "markdown",
      "metadata": {
        "id": "-ybVdpFjzDaB"
      },
      "source": [
        "#### Problem 1 -- Apply the process to create a simple interest functions."
      ]
    },
    {
      "cell_type": "code",
      "execution_count": 1,
      "metadata": {
        "id": "sNCAw0DkzDaB",
        "outputId": "e9d67bc1-7539-45a9-a389-3175c5515649",
        "colab": {
          "base_uri": "https://localhost:8080/"
        }
      },
      "outputs": [
        {
          "output_type": "execute_result",
          "data": {
            "text/plain": [
              "40.0"
            ]
          },
          "metadata": {},
          "execution_count": 1
        }
      ],
      "source": [
        "I = lambda P,r,t: P*r*t\n",
        "I(500,.04,2)"
      ]
    },
    {
      "cell_type": "code",
      "source": [
        "def I(P,r,t):\n",
        "    \"\"\"Compute the interest collected\n",
        "       \n",
        "       Args:\n",
        "           P: principle or initial value\n",
        "           r: interest rate\n",
        "           t: time collected\n",
        "           \n",
        "       Returns:\n",
        "           A number showing the interest collected\n",
        "    \"\"\"\n",
        "    output = P*r*t\n",
        "    return output\n",
        "\n",
        "def test_I():\n",
        "    assert I(500,0.04,2) == 40\n",
        "    assert I(300,0.05,2) == 30\n",
        "test_I()"
      ],
      "metadata": {
        "id": "hRmHAg8MEJhn"
      },
      "execution_count": 2,
      "outputs": []
    },
    {
      "cell_type": "markdown",
      "metadata": {
        "id": "g0SrYSKszDaC"
      },
      "source": [
        "#### Problem 2 -- Apply the process to create a compound interest functions."
      ]
    },
    {
      "cell_type": "code",
      "execution_count": 3,
      "metadata": {
        "id": "8UDST0CGzDaC",
        "colab": {
          "base_uri": "https://localhost:8080/"
        },
        "outputId": "ae019fbf-8d89-4baf-b844-2e9f2b11ec4e"
      },
      "outputs": [
        {
          "output_type": "execute_result",
          "data": {
            "text/plain": [
              "8235.0474884514"
            ]
          },
          "metadata": {},
          "execution_count": 3
        }
      ],
      "source": [
        "A = lambda P,r,n,t: P*(1+(r/n))**(n*t)\n",
        "A(5000,.05,12,10)"
      ]
    },
    {
      "cell_type": "code",
      "source": [
        "def A(P,r,n,t):\n",
        "    \"\"\"Compute the interest collected\n",
        "       \n",
        "       Args:\n",
        "           P: principle or initial value\n",
        "           r: interest rate\n",
        "           n: how often it is compounded\n",
        "           t: how long it is invested or borrowed\n",
        "           \n",
        "       Returns:\n",
        "           A number showing the interest amount\n",
        "    \"\"\"\n",
        "    output = round(P*(1+(r/n))**(n*t),2)\n",
        "    return output\n",
        "\n",
        "def test_A():\n",
        "    assert A(5000,0.05,12,10) == 8235.05\n",
        "    assert A(20,0.01,2,50) == 32.93\n",
        "test_A()"
      ],
      "metadata": {
        "id": "OxT6jb_-IrZv"
      },
      "execution_count": 4,
      "outputs": []
    },
    {
      "cell_type": "markdown",
      "metadata": {
        "id": "GPGWF9AqzDaC"
      },
      "source": [
        "#### Problem 3 -- Apply the process to create a amortized loan payment function."
      ]
    },
    {
      "cell_type": "code",
      "execution_count": 5,
      "metadata": {
        "id": "hZDFff39zDaC",
        "colab": {
          "base_uri": "https://localhost:8080/"
        },
        "outputId": "97382ae3-19db-4b4b-9389-5d06fe23a2fd"
      },
      "outputs": [
        {
          "output_type": "execute_result",
          "data": {
            "text/plain": [
              "112.83"
            ]
          },
          "metadata": {},
          "execution_count": 5
        }
      ],
      "source": [
        "R = lambda P,i,n: round((P*i)/(1-(1+i)**(-n)),2)\n",
        "R(1000,.05,12)"
      ]
    },
    {
      "cell_type": "code",
      "source": [
        "def R(P,i,n):\n",
        "    \"\"\"Compute the amount of each payment\n",
        "       \n",
        "       Args:\n",
        "           P: principle or initial value\n",
        "           r: interest rate\n",
        "           n: how many payment are collected\n",
        "           \n",
        "       Returns:\n",
        "           A number showing the payment required\n",
        "    \"\"\"\n",
        "    output = round((P*i)/(1-(1+i)**(-n)),2)\n",
        "    return output\n",
        "\n",
        "def test_R():\n",
        "    assert R(1000,0.05,12) == 112.83\n",
        "    assert R(5000,0.01,24) == 235.37\n",
        "test_R()"
      ],
      "metadata": {
        "id": "n_EwQGnrNQcC"
      },
      "execution_count": 6,
      "outputs": []
    },
    {
      "cell_type": "markdown",
      "metadata": {
        "id": "yvIaRFkZzDaD"
      },
      "source": [
        "#### Problem 4 -- Apply the process to create a remaining balance function"
      ]
    },
    {
      "cell_type": "code",
      "execution_count": 10,
      "metadata": {
        "id": "eiOF_AmEzDaD",
        "colab": {
          "base_uri": "https://localhost:8080/"
        },
        "outputId": "0622a521-2bd2-40f7-915f-f1afc1d25004"
      },
      "outputs": [
        {
          "output_type": "execute_result",
          "data": {
            "text/plain": [
              "8759.39"
            ]
          },
          "metadata": {},
          "execution_count": 10
        }
      ],
      "source": [
        "B = lambda R,i,n,x: round(R*((1-(1+i)**-(n-x))/i),2)\n",
        "B(900,.1,48,10)"
      ]
    },
    {
      "cell_type": "code",
      "source": [
        "def B(R,i,n,x):\n",
        "    \"\"\"Compute the amount still owed\n",
        "       \n",
        "       Args:\n",
        "           R: The regular payment amount\n",
        "           i: interest rate\n",
        "           n: how many payment are collected\n",
        "           x: how many payments already completed\n",
        "           \n",
        "       Returns:\n",
        "           A number showing the payment still required\n",
        "    \"\"\"\n",
        "    output = round(R*((1-(1+i)**-(n-x))/i),2)\n",
        "    return output\n",
        "\n",
        "def test_B():\n",
        "    assert B(300,0.05,12,3) == 2132.35\n",
        "    assert B(900,0.1,48,10) == 8759.39\n",
        "test_B()"
      ],
      "metadata": {
        "id": "oJALBUIiLZl9"
      },
      "execution_count": 13,
      "outputs": []
    }
  ],
  "metadata": {
    "kernelspec": {
      "display_name": "Python 3",
      "language": "python",
      "name": "python3"
    },
    "language_info": {
      "codemirror_mode": {
        "name": "ipython",
        "version": 3
      },
      "file_extension": ".py",
      "mimetype": "text/x-python",
      "name": "python",
      "nbconvert_exporter": "python",
      "pygments_lexer": "ipython3",
      "version": "3.7.2"
    },
    "colab": {
      "provenance": [],
      "name": "Copy of lab_1_interest_functions.ipynb",
      "collapsed_sections": [],
      "include_colab_link": true
    }
  },
  "nbformat": 4,
  "nbformat_minor": 0
}